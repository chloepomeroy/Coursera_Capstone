{
 "cells": [
  {
   "cell_type": "markdown",
   "id": "7b420492",
   "metadata": {},
   "source": [
    "### Introduction"
   ]
  },
  {
   "cell_type": "markdown",
   "id": "f28a66a2",
   "metadata": {},
   "source": [
    "When moving from one city to another, it’s often difficult to know what each neighbourhood is like and so house hunting can feel like you're going in blind. This is particularly relevant for people who need to relocate for work, but have never been to the city they're relocating to.\n",
    "\n",
    "In this project I want to analyze the neighbourhoods of 4 Canadian metropolitan cities (Vancouver, Montreal, Toronto, and Calgary) to find which neighbourhoods in different cities are most similar based on venues and population demographics."
   ]
  },
  {
   "cell_type": "markdown",
   "id": "6b55f357",
   "metadata": {},
   "source": [
    "### Target Audience"
   ]
  },
  {
   "cell_type": "markdown",
   "id": "2f8e8513",
   "metadata": {},
   "source": [
    "The target audience for this solution is anyone who is moving or thinking about moving from one of these cities to another, but I think the people who would find it most helpful are those who have never been to the city they are moving to. \n",
    "\n",
    "For this project I chose 4 metropolitan cities because I think the largest audience for this solution are people who live in urban areas, and I chose Canadian cities because I'm most familiar with them personally, but a complete solution would involve analysis of every city in the world."
   ]
  },
  {
   "cell_type": "markdown",
   "id": "657734e2",
   "metadata": {},
   "source": [
    "### Use case Example"
   ]
  },
  {
   "cell_type": "markdown",
   "id": "342ee97b",
   "metadata": {},
   "source": [
    "Let's say that I am really like the Church and Wellesly neighbourhood from Toronto and I have to move to Vancouver from a job, but I really don't know much about what area I'd like to live in there. This solution will tell me which neighbourhoods in Vancouver are most similar to Church and Wellesly so that I have a better idea at what real estate to look at."
   ]
  },
  {
   "cell_type": "code",
   "execution_count": null,
   "id": "6e6ead01",
   "metadata": {},
   "outputs": [],
   "source": []
  }
 ],
 "metadata": {
  "kernelspec": {
   "display_name": "Python 3",
   "language": "python",
   "name": "python3"
  },
  "language_info": {
   "codemirror_mode": {
    "name": "ipython",
    "version": 3
   },
   "file_extension": ".py",
   "mimetype": "text/x-python",
   "name": "python",
   "nbconvert_exporter": "python",
   "pygments_lexer": "ipython3",
   "version": "3.9.5"
  }
 },
 "nbformat": 4,
 "nbformat_minor": 5
}

{
 "cells": [
  {
   "cell_type": "markdown",
   "id": "283decac",
   "metadata": {},
   "source": [
    "### Data"
   ]
  },
  {
   "cell_type": "markdown",
   "id": "411a6cc2",
   "metadata": {},
   "source": [
    "I'll be using the Toronto neighbourhood data which we scraped from wikipedia using BeautifulSoup. \n",
    "\n",
    "For the Vancouver, Calgary, and Montreal data, I found a website online that contains all the neighbourhood names, postal codes, boroughs, and cities for all of British Columbia, all of Alberta, and all of Quebec. My plan is to scrape those two pages using BeautifulSoup and then to drop all rows that refer to cities other than Vancouver, Calgary, or Montreal."
   ]
  },
  {
   "cell_type": "markdown",
   "id": "6c715cd1",
   "metadata": {},
   "source": [
    "For the demographic data I'll be using the 2016 Census data available for download from Stats Canada for each city. I plan to extract the population density, average income, average population age, top 3 mother tongues, and top 3 ethnic origins for each neighbourhood to use as features for the model."
   ]
  },
  {
   "cell_type": "markdown",
   "id": "57d9889e",
   "metadata": {},
   "source": [
    "I will also be using foursquare to extract the most common venue types in each neighbourhood, which will be used as a feature to help determine similarity when training my model."
   ]
  },
  {
   "cell_type": "markdown",
   "id": "88749d6f",
   "metadata": {},
   "source": [
    "#### Postal Code Data Sources"
   ]
  },
  {
   "cell_type": "markdown",
   "id": "5a69f577",
   "metadata": {},
   "source": [
    "Toronto: https://en.wikipedia.org/w/index.php?title=List_of_postal_codes_of_Canada:_M\n",
    "\n",
    "Vancouver: http://www.geonames.org/postal-codes/CA/BC/british-columbia.html\n",
    "\n",
    "Montreal: http://www.geonames.org/postal-codes/CA/QC/quebec.html \n",
    "\n",
    "Calgary: http://www.geonames.org/postal-codes/CA/AB/alberta.html"
   ]
  },
  {
   "cell_type": "markdown",
   "id": "f586f986",
   "metadata": {},
   "source": [
    "#### Demographic Data Sources"
   ]
  },
  {
   "cell_type": "markdown",
   "id": "6a0e17c8",
   "metadata": {},
   "source": [
    "Toronto: https://www12.statcan.gc.ca/census-recensement/2016/dp-pd/prof/details/page.cfm?Lang=E&Geo1=CSD&Code1=3520005&Geo2=PR&Code2=35&Data=Count&SearchText=toronto&SearchType=Begins&SearchPR=01&B1=All&TABID=1\n",
    "\n",
    "Vancouver: https://www12.statcan.gc.ca/census-recensement/2016/dp-pd/prof/details/page.cfm?Lang=E&Geo1=CMACA&Code1=933&Geo2=PR&Code2=59&Data=Count&SearchText=Vancouver&SearchType=Begins&SearchPR=01&B1=All\n",
    "\n",
    "Montreal: https://www12.statcan.gc.ca/census-recensement/2016/dp-pd/prof/details/page.cfm?Lang=E&Geo1=CMACA&Code1=462&Geo2=PR&Code2=01&Data=Count&SearchText=Montreal&SearchType=Begins&SearchPR=01&TABID=1&B1=All\n",
    "\n",
    "Calgary: https://www12.statcan.gc.ca/census-recensement/2016/dp-pd/prof/details/page.cfm?Lang=E&Geo1=CMACA&Code1=825&Geo2=PR&Code2=47&Data=Count&SearchText=Langdon&SearchType=Begins&SearchPR=01&B1=All"
   ]
  },
  {
   "cell_type": "code",
   "execution_count": null,
   "id": "bc11d719",
   "metadata": {},
   "outputs": [],
   "source": []
  }
 ],
 "metadata": {
  "kernelspec": {
   "display_name": "Python 3",
   "language": "python",
   "name": "python3"
  },
  "language_info": {
   "codemirror_mode": {
    "name": "ipython",
    "version": 3
   },
   "file_extension": ".py",
   "mimetype": "text/x-python",
   "name": "python",
   "nbconvert_exporter": "python",
   "pygments_lexer": "ipython3",
   "version": "3.9.5"
  }
 },
 "nbformat": 4,
 "nbformat_minor": 5
}
